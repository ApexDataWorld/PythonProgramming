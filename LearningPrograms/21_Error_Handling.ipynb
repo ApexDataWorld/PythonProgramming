{
 "cells": [
  {
   "cell_type": "markdown",
   "id": "94acbce6",
   "metadata": {
    "id": "94acbce6"
   },
   "source": [
    "# Error Handling\n",
    "\n",
    "Justin Post\n"
   ]
  },
  {
   "cell_type": "markdown",
   "id": "61ed5aff",
   "metadata": {
    "id": "61ed5aff"
   },
   "source": [
    "---\n",
    "\n",
    "We've already learned a lot about creating our own functions. One thing we haven't touched on is how to have our functions fail in a good way. That is, when an error occurs, can we either avoid it and finish the function execution or can we at least provide a clear explanation of what error came up?\n",
    "\n",
    "To do so we'll talk about `try`/`catch` logic. Here we `try` some code and can plan to `catch` certain errors and do something about them."
   ]
  },
  {
   "cell_type": "markdown",
   "id": "b08929ef",
   "metadata": {
    "id": "b08929ef"
   },
   "source": [
    "---\n",
    "\n",
    "## Errors When Programming\n",
    "\n",
    "Commonly you'll have **syntax errors** and **exceptions**\n",
    "\n",
    "- **Syntax error** is when you typed something in wrong (and it can't be parsed by python)"
   ]
  },
  {
   "cell_type": "code",
   "execution_count": null,
   "id": "5562ab82",
   "metadata": {
    "colab": {
     "base_uri": "https://localhost:8080/",
     "height": 141
    },
    "eval": false,
    "id": "5562ab82",
    "lines_to_next_cell": 0,
    "outputId": "52434013-b9dc-448a-fd7e-e80a96ceeafe"
   },
   "outputs": [
    {
     "ename": "SyntaxError",
     "evalue": "expected ':' (<ipython-input-1-e585a31d91dc>, line 1)",
     "output_type": "error",
     "traceback": [
      "\u001b[0;36m  File \u001b[0;32m\"<ipython-input-1-e585a31d91dc>\"\u001b[0;36m, line \u001b[0;32m1\u001b[0m\n\u001b[0;31m    for x in range(0,10) #missing colon\u001b[0m\n\u001b[0m                         ^\u001b[0m\n\u001b[0;31mSyntaxError\u001b[0m\u001b[0;31m:\u001b[0m expected ':'\n"
     ]
    }
   ],
   "source": [
    "for x in range(0,10) #missing colon\n",
    "    print(x)"
   ]
  },
  {
   "cell_type": "markdown",
   "id": "1d8275e0",
   "metadata": {
    "id": "1d8275e0"
   },
   "source": [
    "`SyntaxError: invalid syntax (<string>, line 1)`"
   ]
  },
  {
   "cell_type": "markdown",
   "id": "6c7d3664",
   "metadata": {
    "id": "6c7d3664"
   },
   "source": [
    "- These aren't things we can fix on the backend. Code needs to be typed in correctly!\n",
    "\n",
    "- An **exception** occurs when python can't execute your code (during the execution something bad happens)"
   ]
  },
  {
   "cell_type": "code",
   "execution_count": null,
   "id": "332a30b7",
   "metadata": {
    "colab": {
     "base_uri": "https://localhost:8080/",
     "height": 176
    },
    "eval": false,
    "id": "332a30b7",
    "lines_to_next_cell": 0,
    "outputId": "33a28775-65ab-412b-e7ba-1f9ce7c1e3e7"
   },
   "outputs": [
    {
     "ename": "TypeError",
     "evalue": "can only concatenate str (not \"int\") to str",
     "output_type": "error",
     "traceback": [
      "\u001b[0;31m---------------------------------------------------------------------------\u001b[0m",
      "\u001b[0;31mTypeError\u001b[0m                                 Traceback (most recent call last)",
      "\u001b[0;32m<ipython-input-2-8cddb0f2de90>\u001b[0m in \u001b[0;36m<cell line: 1>\u001b[0;34m()\u001b[0m\n\u001b[0;32m----> 1\u001b[0;31m \u001b[0mprint\u001b[0m\u001b[0;34m(\u001b[0m\u001b[0;34m\"the number is \"\u001b[0m \u001b[0;34m+\u001b[0m \u001b[0;36m10\u001b[0m\u001b[0;34m)\u001b[0m\u001b[0;34m\u001b[0m\u001b[0;34m\u001b[0m\u001b[0m\n\u001b[0m",
      "\u001b[0;31mTypeError\u001b[0m: can only concatenate str (not \"int\") to str"
     ]
    }
   ],
   "source": [
    "print(\"the number is \" + 10)"
   ]
  },
  {
   "cell_type": "markdown",
   "id": "bfb86f8e",
   "metadata": {
    "id": "bfb86f8e"
   },
   "source": [
    "`TypeError: can only concatenate str (not \"int\") to str`\n"
   ]
  },
  {
   "cell_type": "markdown",
   "id": "1f6b3cb6",
   "metadata": {
    "id": "1f6b3cb6"
   },
   "source": [
    "---\n",
    "\n",
    "## Dealing with Exceptions\n",
    "\n",
    "Exceptions can be dealt with to some degree!\n",
    "Consider this function to print out strings passed by the user."
   ]
  },
  {
   "cell_type": "code",
   "execution_count": null,
   "id": "c38a0e4d",
   "metadata": {
    "colab": {
     "base_uri": "https://localhost:8080/"
    },
    "error": true,
    "id": "c38a0e4d",
    "outputId": "4452daec-093a-44c6-b40e-da452cbd4f60"
   },
   "outputs": [
    {
     "name": "stdout",
     "output_type": "stream",
     "text": [
      "The value in position 0 is: cat\n",
      "The value in position 1 is: dog\n",
      "The value in position 2 is: bird\n"
     ]
    }
   ],
   "source": [
    "def print_strings(*x): #should all be strings!\n",
    "    c = 0\n",
    "    for i in x:\n",
    "        print(\"The value in position \" + str(c) + \" is: \" + i)\n",
    "        c += 1\n",
    "\n",
    "print_strings(\"cat\", \"dog\", \"bird\")"
   ]
  },
  {
   "cell_type": "markdown",
   "id": "fc171cd9",
   "metadata": {
    "id": "fc171cd9"
   },
   "source": [
    "- If we pass a non-string, this will throw an exception."
   ]
  },
  {
   "cell_type": "code",
   "execution_count": null,
   "id": "b2e6cefe",
   "metadata": {
    "colab": {
     "base_uri": "https://localhost:8080/",
     "height": 350
    },
    "error": true,
    "id": "b2e6cefe",
    "lines_to_next_cell": 2,
    "outputId": "ee3ddb67-b4d1-469a-de00-f96141e61c49"
   },
   "outputs": [
    {
     "name": "stdout",
     "output_type": "stream",
     "text": [
      "The value in position 0 is: cat\n"
     ]
    },
    {
     "ename": "TypeError",
     "evalue": "can only concatenate str (not \"int\") to str",
     "output_type": "error",
     "traceback": [
      "\u001b[0;31m---------------------------------------------------------------------------\u001b[0m",
      "\u001b[0;31mTypeError\u001b[0m                                 Traceback (most recent call last)",
      "\u001b[0;32m<ipython-input-4-79cc83d85434>\u001b[0m in \u001b[0;36m<cell line: 7>\u001b[0;34m()\u001b[0m\n\u001b[1;32m      5\u001b[0m         \u001b[0mc\u001b[0m \u001b[0;34m+=\u001b[0m \u001b[0;36m1\u001b[0m\u001b[0;34m\u001b[0m\u001b[0;34m\u001b[0m\u001b[0m\n\u001b[1;32m      6\u001b[0m \u001b[0;34m\u001b[0m\u001b[0m\n\u001b[0;32m----> 7\u001b[0;31m \u001b[0mprint_strings\u001b[0m\u001b[0;34m(\u001b[0m\u001b[0;34m\"cat\"\u001b[0m\u001b[0;34m,\u001b[0m \u001b[0;36m1\u001b[0m\u001b[0;34m,\u001b[0m \u001b[0;34m\"bird\"\u001b[0m\u001b[0;34m)\u001b[0m\u001b[0;34m\u001b[0m\u001b[0;34m\u001b[0m\u001b[0m\n\u001b[0m",
      "\u001b[0;32m<ipython-input-4-79cc83d85434>\u001b[0m in \u001b[0;36mprint_strings\u001b[0;34m(*x)\u001b[0m\n\u001b[1;32m      2\u001b[0m     \u001b[0mc\u001b[0m \u001b[0;34m=\u001b[0m \u001b[0;36m0\u001b[0m\u001b[0;34m\u001b[0m\u001b[0;34m\u001b[0m\u001b[0m\n\u001b[1;32m      3\u001b[0m     \u001b[0;32mfor\u001b[0m \u001b[0mi\u001b[0m \u001b[0;32min\u001b[0m \u001b[0mx\u001b[0m\u001b[0;34m:\u001b[0m\u001b[0;34m\u001b[0m\u001b[0;34m\u001b[0m\u001b[0m\n\u001b[0;32m----> 4\u001b[0;31m         \u001b[0mprint\u001b[0m\u001b[0;34m(\u001b[0m\u001b[0;34m\"The value in position \"\u001b[0m \u001b[0;34m+\u001b[0m \u001b[0mstr\u001b[0m\u001b[0;34m(\u001b[0m\u001b[0mc\u001b[0m\u001b[0;34m)\u001b[0m \u001b[0;34m+\u001b[0m \u001b[0;34m\" is: \"\u001b[0m \u001b[0;34m+\u001b[0m \u001b[0mi\u001b[0m\u001b[0;34m)\u001b[0m\u001b[0;34m\u001b[0m\u001b[0;34m\u001b[0m\u001b[0m\n\u001b[0m\u001b[1;32m      5\u001b[0m         \u001b[0mc\u001b[0m \u001b[0;34m+=\u001b[0m \u001b[0;36m1\u001b[0m\u001b[0;34m\u001b[0m\u001b[0;34m\u001b[0m\u001b[0m\n\u001b[1;32m      6\u001b[0m \u001b[0;34m\u001b[0m\u001b[0m\n",
      "\u001b[0;31mTypeError\u001b[0m: can only concatenate str (not \"int\") to str"
     ]
    }
   ],
   "source": [
    "def print_strings(*x): #should all be strings!\n",
    "    c = 0\n",
    "    for i in x:\n",
    "        print(\"The value in position \" + str(c) + \" is: \" + i)\n",
    "        c += 1\n",
    "\n",
    "print_strings(\"cat\", 1, \"bird\")"
   ]
  },
  {
   "cell_type": "markdown",
   "id": "ba95af79",
   "metadata": {
    "id": "ba95af79"
   },
   "source": [
    "- Note that it says `TypeError` at the beginning of that big error message. What we can do is run a `try` block and set up what to do when we get certain exceptions via an `except` block.\n",
    "- The syntax for these is simlar to `if` and `else` blocks"
   ]
  },
  {
   "cell_type": "code",
   "execution_count": null,
   "id": "6a3e285f",
   "metadata": {
    "colab": {
     "base_uri": "https://localhost:8080/"
    },
    "id": "6a3e285f",
    "lines_to_next_cell": 2,
    "outputId": "62a5b92a-4944-4d19-b59e-d7236f8f79d2"
   },
   "outputs": [
    {
     "name": "stdout",
     "output_type": "stream",
     "text": [
      "The value in position 0 is: cat\n",
      "The value in position 1 is: dog\n",
      "Oh no! Not a string\n",
      "The value in position 3 is: bird\n"
     ]
    }
   ],
   "source": [
    "def print_strings(*x):\n",
    "    c = 0\n",
    "    for i in x:\n",
    "        try: #try the code that is indented below here\n",
    "            print(\"The value in position \" + str(c) + \" is: \" + i)\n",
    "        except TypeError: #if we get a TypeError in the previous try block, do this and then continue execution!\n",
    "            print(\"Oh no! Not a string\")\n",
    "        c += 1\n",
    "print_strings(\"cat\", \"dog\", 1, \"bird\")"
   ]
  },
  {
   "cell_type": "markdown",
   "id": "f366474b",
   "metadata": {
    "id": "f366474b"
   },
   "source": [
    "- Can have multiple `except` statements and an `else` block to account for many situations\n",
    "\n",
    "- Let's create a quick function to printout information about a person given as key/value pairs"
   ]
  },
  {
   "cell_type": "code",
   "execution_count": null,
   "id": "86d7d984",
   "metadata": {
    "colab": {
     "base_uri": "https://localhost:8080/"
    },
    "error": true,
    "id": "86d7d984",
    "lines_to_next_cell": 2,
    "outputId": "36d6cbbd-9797-4ee0-a56f-773ff75d9089"
   },
   "outputs": [
    {
     "name": "stdout",
     "output_type": "stream",
     "text": [
      "Pay special attention to Justin Post\n",
      "His attributes are:\n",
      "\t Age  :  39\n",
      "\t Job  :  Professor\n"
     ]
    }
   ],
   "source": [
    "def print_stuff(**x): #now taking key value pairs (a dictionary within the function)\n",
    "    print(\"Pay special attention to \" + x.pop(\"Name\") + \"\\nHis attributes are:\") #we must have a Name argument\n",
    "    for key in x: #now run through the other info given and print it out\n",
    "        print(\"\\t\", key, \" : \", str(x[key])) #\\t is a tab\n",
    "\n",
    "print_stuff(Name = \"Justin Post\", Age = 39, Job = \"Professor\")"
   ]
  },
  {
   "cell_type": "markdown",
   "id": "e50c9a86",
   "metadata": {
    "id": "e50c9a86"
   },
   "source": [
    "If we don't have a `Name` argument passed, we'd have an error!"
   ]
  },
  {
   "cell_type": "code",
   "execution_count": null,
   "id": "d2cf43AK3KTi",
   "metadata": {
    "colab": {
     "base_uri": "https://localhost:8080/",
     "height": 298
    },
    "id": "d2cf43AK3KTi",
    "outputId": "88c953c8-8424-42b5-e3d0-8861c7dc6a20"
   },
   "outputs": [
    {
     "ename": "KeyError",
     "evalue": "'Name'",
     "output_type": "error",
     "traceback": [
      "\u001b[0;31m---------------------------------------------------------------------------\u001b[0m",
      "\u001b[0;31mKeyError\u001b[0m                                  Traceback (most recent call last)",
      "\u001b[0;32m<ipython-input-12-df1a20389b6f>\u001b[0m in \u001b[0;36m<cell line: 1>\u001b[0;34m()\u001b[0m\n\u001b[0;32m----> 1\u001b[0;31m \u001b[0mprint_stuff\u001b[0m\u001b[0;34m(\u001b[0m\u001b[0mperson\u001b[0m \u001b[0;34m=\u001b[0m \u001b[0;34m\"Justin Post\"\u001b[0m\u001b[0;34m,\u001b[0m \u001b[0mAge\u001b[0m \u001b[0;34m=\u001b[0m \u001b[0;36m39\u001b[0m\u001b[0;34m,\u001b[0m \u001b[0mJob\u001b[0m \u001b[0;34m=\u001b[0m \u001b[0;34m\"Professor\"\u001b[0m\u001b[0;34m)\u001b[0m\u001b[0;34m\u001b[0m\u001b[0;34m\u001b[0m\u001b[0m\n\u001b[0m",
      "\u001b[0;32m<ipython-input-11-f49d25a77421>\u001b[0m in \u001b[0;36mprint_stuff\u001b[0;34m(**x)\u001b[0m\n\u001b[1;32m      1\u001b[0m \u001b[0;32mdef\u001b[0m \u001b[0mprint_stuff\u001b[0m\u001b[0;34m(\u001b[0m\u001b[0;34m**\u001b[0m\u001b[0mx\u001b[0m\u001b[0;34m)\u001b[0m\u001b[0;34m:\u001b[0m \u001b[0;31m#now taking key value pairs (a dictionary within the function)\u001b[0m\u001b[0;34m\u001b[0m\u001b[0;34m\u001b[0m\u001b[0m\n\u001b[0;32m----> 2\u001b[0;31m     \u001b[0mprint\u001b[0m\u001b[0;34m(\u001b[0m\u001b[0;34m\"Pay special attention to \"\u001b[0m \u001b[0;34m+\u001b[0m \u001b[0mx\u001b[0m\u001b[0;34m.\u001b[0m\u001b[0mpop\u001b[0m\u001b[0;34m(\u001b[0m\u001b[0;34m\"Name\"\u001b[0m\u001b[0;34m)\u001b[0m \u001b[0;34m+\u001b[0m \u001b[0;34m\"\\nHis attributes are:\"\u001b[0m\u001b[0;34m)\u001b[0m \u001b[0;31m#we must have a Name argument\u001b[0m\u001b[0;34m\u001b[0m\u001b[0;34m\u001b[0m\u001b[0m\n\u001b[0m\u001b[1;32m      3\u001b[0m     \u001b[0;32mfor\u001b[0m \u001b[0mkey\u001b[0m \u001b[0;32min\u001b[0m \u001b[0mx\u001b[0m\u001b[0;34m:\u001b[0m \u001b[0;31m#now run through the other info given and print it out\u001b[0m\u001b[0;34m\u001b[0m\u001b[0;34m\u001b[0m\u001b[0m\n\u001b[1;32m      4\u001b[0m         \u001b[0mprint\u001b[0m\u001b[0;34m(\u001b[0m\u001b[0;34m\"\\t\"\u001b[0m\u001b[0;34m,\u001b[0m \u001b[0mkey\u001b[0m\u001b[0;34m,\u001b[0m \u001b[0;34m\" : \"\u001b[0m\u001b[0;34m,\u001b[0m \u001b[0mstr\u001b[0m\u001b[0;34m(\u001b[0m\u001b[0mx\u001b[0m\u001b[0;34m[\u001b[0m\u001b[0mkey\u001b[0m\u001b[0;34m]\u001b[0m\u001b[0;34m)\u001b[0m\u001b[0;34m)\u001b[0m \u001b[0;31m#\\t is a tab\u001b[0m\u001b[0;34m\u001b[0m\u001b[0;34m\u001b[0m\u001b[0m\n\u001b[1;32m      5\u001b[0m \u001b[0;34m\u001b[0m\u001b[0m\n",
      "\u001b[0;31mKeyError\u001b[0m: 'Name'"
     ]
    }
   ],
   "source": [
    "print_stuff(person = \"Justin Post\", Age = 39, Job = \"Professor\")"
   ]
  },
  {
   "cell_type": "markdown",
   "id": "rnpIyI-V3NVo",
   "metadata": {
    "id": "rnpIyI-V3NVo"
   },
   "source": [
    "In this case we get a `KeyError` (this is when we look for a certain key in a dictionary (or other similar object) and can't find it)\n",
    "- We can look for this kind of error\n",
    "- Also look for other errors that might come up"
   ]
  },
  {
   "cell_type": "code",
   "execution_count": null,
   "id": "62cf834a",
   "metadata": {
    "colab": {
     "base_uri": "https://localhost:8080/"
    },
    "error": true,
    "id": "62cf834a",
    "lines_to_next_cell": 2,
    "outputId": "1d8c856e-a8f2-46f4-df07-435a62a23bff"
   },
   "outputs": [
    {
     "name": "stdout",
     "output_type": "stream",
     "text": [
      "Pay special attention to Justin Post\n",
      "His attributes are:\n",
      "\t Age  :  39\n",
      "\t Job  :  Professor\n"
     ]
    }
   ],
   "source": [
    "def print_stuff(**x): #now taking key value pairs\n",
    "    try:\n",
    "        print(\"Pay special attention to \" + x.pop(\"Name\") + \"\\nHis attributes are:\")\n",
    "    except TypeError: #If x.pop(\"Name\") doesn't give a string we'll get a TypeError\n",
    "        print(\"Oh no! 'Name' is not a string\")\n",
    "    except KeyError: #If the user didn't give a \"Name\" argument we'll get a KeyError\n",
    "        print(\"You didn't supply a 'Name'!\")\n",
    "    for key in x: #Now print out the rest of the info about the person\n",
    "        print(\"\\t\", key, \" : \", str(x[key]))\n",
    "print_stuff(Name = \"Justin Post\", Age = 39, Job = \"Professor\")"
   ]
  },
  {
   "cell_type": "code",
   "execution_count": null,
   "id": "xDtrZMDx3rL0",
   "metadata": {
    "colab": {
     "base_uri": "https://localhost:8080/"
    },
    "id": "xDtrZMDx3rL0",
    "outputId": "5c12bb98-06df-4e3d-b202-5d50788b319a"
   },
   "outputs": [
    {
     "name": "stdout",
     "output_type": "stream",
     "text": [
      "Oh no! 'Name' is not a string\n",
      "\t Age  :  39\n",
      "\t Job  :  Professor\n"
     ]
    }
   ],
   "source": [
    "print_stuff(Name = 11, Age = 39, Job = \"Professor\")"
   ]
  },
  {
   "cell_type": "code",
   "execution_count": null,
   "id": "lDxV9rX-3uO_",
   "metadata": {
    "colab": {
     "base_uri": "https://localhost:8080/"
    },
    "id": "lDxV9rX-3uO_",
    "outputId": "3278a732-f6d5-44ea-95cf-b1292ab1f57c"
   },
   "outputs": [
    {
     "name": "stdout",
     "output_type": "stream",
     "text": [
      "You didn't supply a 'Name'!\n",
      "\t person  :  Justin Post\n",
      "\t Age  :  39\n",
      "\t Job  :  Professor\n"
     ]
    }
   ],
   "source": [
    "print_stuff(person = \"Justin Post\", Age = 39, Job = \"Professor\")"
   ]
  },
  {
   "cell_type": "markdown",
   "id": "f0381624",
   "metadata": {
    "id": "f0381624"
   },
   "source": [
    "An `else` block can be given that is similar to what we use with `if`, `elif` logic\n",
    "- This specifies what to do if things aren't accounted for above"
   ]
  },
  {
   "cell_type": "code",
   "execution_count": null,
   "id": "abead5da",
   "metadata": {
    "colab": {
     "base_uri": "https://localhost:8080/"
    },
    "error": true,
    "id": "abead5da",
    "lines_to_next_cell": 2,
    "outputId": "37f9ad04-8802-4b22-8189-b332f6dfecc5"
   },
   "outputs": [
    {
     "name": "stdout",
     "output_type": "stream",
     "text": [
      "Pay special attention to Justin Post\n",
      "His attributes are:\n",
      "(Valid name by the way - you rule)\n",
      "\t Age  :  39\n",
      "\t Job  :  Professor\n"
     ]
    }
   ],
   "source": [
    "def print_stuff(**x): #now taking key value pairs\n",
    "    try:\n",
    "        print(\"Pay special attention to \" + x.pop(\"Name\") + \"\\nHis attributes are:\")\n",
    "    except TypeError:\n",
    "        print(\"Oh no! 'Name' is not a string\")\n",
    "    except KeyError:\n",
    "        print(\"You didn't supply a 'Name'!\")\n",
    "    else: #if no errors occurred\n",
    "        print(\"(Valid name by the way - you rule)\")\n",
    "    for key in x:\n",
    "        print(\"\\t\", key, \" : \", str(x[key]))\n",
    "\n",
    "print_stuff(Name = \"Justin Post\", Age = 39, Job = \"Professor\")"
   ]
  },
  {
   "cell_type": "markdown",
   "id": "72a8e980",
   "metadata": {
    "id": "72a8e980"
   },
   "source": [
    "- A `finally` clause can be given to always execute at end regardless\n",
    "- Like an `else` block but it always runs"
   ]
  },
  {
   "cell_type": "code",
   "execution_count": null,
   "id": "c4e76e02",
   "metadata": {
    "colab": {
     "base_uri": "https://localhost:8080/"
    },
    "error": true,
    "id": "c4e76e02",
    "outputId": "259b4e0d-8c50-490f-cddc-863f8222c9a2"
   },
   "outputs": [
    {
     "name": "stdout",
     "output_type": "stream",
     "text": [
      "{'name': 'Justin Post', 'Age': 39, 'Job': 'Professor'}\n",
      "You didn't supply a 'Name'!\n",
      "This string prints no matter what\n",
      "\t name  :  Justin Post\n",
      "\t Age  :  39\n",
      "\t Job  :  Professor\n"
     ]
    }
   ],
   "source": [
    "def print_stuff(**x): #now taking key value pairs\n",
    "    print(x)\n",
    "    try:\n",
    "        print(\"Pay special attention to \" + x.pop(\"Name\") + \"\\nHis attributes are:\")\n",
    "    except TypeError:\n",
    "        print(\"Oh no! 'Name' is not a string\")\n",
    "    except KeyError:\n",
    "        print(\"You didn't supply a 'Name'!\")\n",
    "    else:\n",
    "        print(\"(Valid name by the way)\")\n",
    "    finally:\n",
    "        print(\"This string prints no matter what\")\n",
    "    for key in x:\n",
    "        print(\"\\t\", key, \" : \", str(x[key]))\n",
    "\n",
    "print_stuff(name = \"Justin Post\", Age = 39, Job = \"Professor\")"
   ]
  },
  {
   "cell_type": "markdown",
   "id": "5b64da93",
   "metadata": {
    "id": "5b64da93"
   },
   "source": [
    "---\n",
    "\n",
    "## Raising an Exception Yourself\n",
    "\n",
    "- You can define your own exceptions to be more descriptive!\n",
    "\n",
    "- If we try to divide by 0 we get a `ZeroDivisionError` exception"
   ]
  },
  {
   "cell_type": "code",
   "execution_count": null,
   "id": "ba5a8f2e",
   "metadata": {
    "colab": {
     "base_uri": "https://localhost:8080/",
     "height": 176
    },
    "error": true,
    "id": "ba5a8f2e",
    "lines_to_next_cell": 2,
    "outputId": "9e4bc2d5-0c36-4f87-e5f2-065faee6bdb2"
   },
   "outputs": [
    {
     "ename": "ZeroDivisionError",
     "evalue": "division by zero",
     "output_type": "error",
     "traceback": [
      "\u001b[0;31m---------------------------------------------------------------------------\u001b[0m",
      "\u001b[0;31mZeroDivisionError\u001b[0m                         Traceback (most recent call last)",
      "\u001b[0;32m<ipython-input-25-f6cc6d14333b>\u001b[0m in \u001b[0;36m<cell line: 1>\u001b[0;34m()\u001b[0m\n\u001b[0;32m----> 1\u001b[0;31m \u001b[0;36m3\u001b[0m\u001b[0;34m/\u001b[0m\u001b[0;36m0\u001b[0m\u001b[0;34m\u001b[0m\u001b[0;34m\u001b[0m\u001b[0m\n\u001b[0m",
      "\u001b[0;31mZeroDivisionError\u001b[0m: division by zero"
     ]
    }
   ],
   "source": [
    "3/0"
   ]
  },
  {
   "cell_type": "markdown",
   "id": "VjoCE_CQ4lhj",
   "metadata": {
    "id": "VjoCE_CQ4lhj"
   },
   "source": [
    "- Instead we can `raise` our own exception"
   ]
  },
  {
   "cell_type": "code",
   "execution_count": null,
   "id": "neadqLm44e1A",
   "metadata": {
    "id": "neadqLm44e1A"
   },
   "outputs": [],
   "source": [
    "def my_divide(x, y):\n",
    "    if y == 0:\n",
    "        raise Exception(\"Can't divide by 0...\")\n",
    "    return x/y"
   ]
  },
  {
   "cell_type": "code",
   "execution_count": null,
   "id": "kK2OZQko4rcB",
   "metadata": {
    "colab": {
     "base_uri": "https://localhost:8080/"
    },
    "id": "kK2OZQko4rcB",
    "outputId": "ed22a53c-0ae1-4247-e73e-c0d984201b99"
   },
   "outputs": [
    {
     "data": {
      "text/plain": [
       "0.3333333333333333"
      ]
     },
     "execution_count": 27,
     "metadata": {},
     "output_type": "execute_result"
    }
   ],
   "source": [
    "my_divide(3, 9) #works"
   ]
  },
  {
   "cell_type": "code",
   "execution_count": null,
   "id": "JPeW9q5W4tst",
   "metadata": {
    "colab": {
     "base_uri": "https://localhost:8080/",
     "height": 280
    },
    "id": "JPeW9q5W4tst",
    "outputId": "c0ed2299-346b-4649-ddf8-d87b178fb299"
   },
   "outputs": [
    {
     "ename": "Exception",
     "evalue": "Can't divide by 0...",
     "output_type": "error",
     "traceback": [
      "\u001b[0;31m---------------------------------------------------------------------------\u001b[0m",
      "\u001b[0;31mException\u001b[0m                                 Traceback (most recent call last)",
      "\u001b[0;32m<ipython-input-29-c7c11902dc96>\u001b[0m in \u001b[0;36m<cell line: 1>\u001b[0;34m()\u001b[0m\n\u001b[0;32m----> 1\u001b[0;31m \u001b[0mmy_divide\u001b[0m\u001b[0;34m(\u001b[0m\u001b[0;36m3\u001b[0m\u001b[0;34m,\u001b[0m\u001b[0;36m0\u001b[0m\u001b[0;34m)\u001b[0m \u001b[0;31m#raises our custom exception and provides that note!\u001b[0m\u001b[0;34m\u001b[0m\u001b[0;34m\u001b[0m\u001b[0m\n\u001b[0m",
      "\u001b[0;32m<ipython-input-26-418f7e821d7e>\u001b[0m in \u001b[0;36mmy_divide\u001b[0;34m(x, y)\u001b[0m\n\u001b[1;32m      1\u001b[0m \u001b[0;32mdef\u001b[0m \u001b[0mmy_divide\u001b[0m\u001b[0;34m(\u001b[0m\u001b[0mx\u001b[0m\u001b[0;34m,\u001b[0m \u001b[0my\u001b[0m\u001b[0;34m)\u001b[0m\u001b[0;34m:\u001b[0m\u001b[0;34m\u001b[0m\u001b[0;34m\u001b[0m\u001b[0m\n\u001b[1;32m      2\u001b[0m     \u001b[0;32mif\u001b[0m \u001b[0my\u001b[0m \u001b[0;34m==\u001b[0m \u001b[0;36m0\u001b[0m\u001b[0;34m:\u001b[0m\u001b[0;34m\u001b[0m\u001b[0;34m\u001b[0m\u001b[0m\n\u001b[0;32m----> 3\u001b[0;31m         \u001b[0;32mraise\u001b[0m \u001b[0mException\u001b[0m\u001b[0;34m(\u001b[0m\u001b[0;34m\"Can't divide by 0...\"\u001b[0m\u001b[0;34m)\u001b[0m\u001b[0;34m\u001b[0m\u001b[0;34m\u001b[0m\u001b[0m\n\u001b[0m\u001b[1;32m      4\u001b[0m     \u001b[0;32mreturn\u001b[0m \u001b[0mx\u001b[0m\u001b[0;34m/\u001b[0m\u001b[0my\u001b[0m\u001b[0;34m\u001b[0m\u001b[0;34m\u001b[0m\u001b[0m\n",
      "\u001b[0;31mException\u001b[0m: Can't divide by 0..."
     ]
    }
   ],
   "source": [
    "my_divide(3,0) #raises our custom exception and provides that note!"
   ]
  },
  {
   "cell_type": "markdown",
   "id": "d74e18e8",
   "metadata": {
    "id": "d74e18e8"
   },
   "source": [
    "---\n",
    "\n",
    "## Quick Video\n",
    "\n",
    "This video shows an example of using error control!"
   ]
  },
  {
   "cell_type": "code",
   "execution_count": null,
   "id": "Q-CPY05WRlvr",
   "metadata": {
    "colab": {
     "base_uri": "https://localhost:8080/",
     "height": 426
    },
    "id": "Q-CPY05WRlvr",
    "outputId": "caa66bd3-6418-4a75-93b1-1259502bdf1c"
   },
   "outputs": [
    {
     "data": {
      "text/html": [
       "\n",
       "        <iframe\n",
       "            width=\"720\"\n",
       "            height=\"405\"\n",
       "            src=\"https://ncsu.hosted.panopto.com/Panopto/Pages/Embed.aspx?id=cd799e52-f4f1-4531-8174-b10301708125&autoplay=false&offerviewer=true&showtitle=true&showbrand=true&captions=false&interactivity=all\"\n",
       "            frameborder=\"0\"\n",
       "            allowfullscreen\n",
       "            \n",
       "        ></iframe>\n",
       "        "
      ],
      "text/plain": [
       "<IPython.lib.display.IFrame at 0x7f42b42f1240>"
      ]
     },
     "execution_count": 1,
     "metadata": {},
     "output_type": "execute_result"
    }
   ],
   "source": [
    "from IPython.display import IFrame\n",
    "IFrame(src=\"https://ncsu.hosted.panopto.com/Panopto/Pages/Embed.aspx?id=cd799e52-f4f1-4531-8174-b10301708125&autoplay=false&offerviewer=true&showtitle=true&showbrand=true&captions=false&interactivity=all\", height=\"405\", width=\"720\")"
   ]
  },
  {
   "cell_type": "markdown",
   "id": "5348b685",
   "metadata": {
    "id": "5348b685"
   },
   "source": [
    "---\n",
    "\n",
    "# Recap\n",
    "\n",
    "- Syntax errors and exceptions\n",
    "\n",
    "- When an exception is raised:\n",
    "\n",
    "    + `try`, `except`, `else`, and `finally` can help!\n"
   ]
  }
 ],
 "metadata": {
  "colab": {
   "provenance": [],
   "toc_visible": true
  },
  "jupytext": {
   "cell_metadata_filter": "tags,eval,error,warning,message,-all",
   "main_language": "python",
   "notebook_metadata_filter": "-all"
  },
  "kernelspec": {
   "display_name": "Python 3 (ipykernel)",
   "language": "python",
   "name": "python3"
  },
  "language_info": {
   "codemirror_mode": {
    "name": "ipython",
    "version": 3
   },
   "file_extension": ".py",
   "mimetype": "text/x-python",
   "name": "python",
   "nbconvert_exporter": "python",
   "pygments_lexer": "ipython3",
   "version": "3.9.12"
  }
 },
 "nbformat": 4,
 "nbformat_minor": 5
}
