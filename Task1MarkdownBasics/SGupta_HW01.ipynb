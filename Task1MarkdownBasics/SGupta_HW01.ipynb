{
 "cells": [
  {
   "cell_type": "markdown",
   "metadata": {
    "id": "aalMJt77g7sN"
   },
   "source": [
    "**Saurabh Gupta**\n",
    "---"
   ]
  },
  {
   "cell_type": "markdown",
   "metadata": {
    "id": "fm_0YRjEVgTr"
   },
   "source": [
    "# About a Common <code>python</code> Module!"
   ]
  },
  {
   "cell_type": "markdown",
   "metadata": {
    "id": "FnmS2Eh_Us5X"
   },
   "source": [
    "## What is <code>NumPy</code>?\n",
    "\n",
    "<code>NumPy</code> is the fundamental package for scientific computing in Python. It is a Python library that provides a multidimensional array object, various derived objects (such as masked arrays and matrices), and an assortment of routines for fast operations on arrays, including mathematical, logical, shape manipulation, sorting, selecting, I/O, discrete Fourier transforms, basic linear algebra, basic statistical operations, random simulation and much more.\n",
    "\n",
    "At the core of the <code>NumPy</code> package, is the *ndarray* object. This encapsulates **n-dimensional arrays of homogeneous data types**, with many operations being performed in compiled code for performance. There are several important differences between <code>NumPy</code> arrays and the standard Python sequences:\n",
    "\n",
    "\n",
    "- <code>NumPy</code> arrays have a fixed size at creation, unlike Python lists (which can grow dynamically). Changing the size of an *ndarray* will create a new array and delete the original.\n",
    "- The elements in a <code>NumPy</code> array are all required to be of the same data type, and thus will be the same size in memory. The exception: one can have arrays of (Python, including <code>NumPy</code>) objects, thereby allowing for arrays of different sized elements.\n",
    "- <code>NumPy</code> arrays facilitate advanced mathematical and other types of operations on large numbers of data. Typically, such operations are executed more efficiently and with less code than is possible using Python’s built-in sequences.\n",
    "- A growing plethora of scientific and mathematical Python-based packages are using <code>NumPy</code> arrays; though these typically support Python-sequence input, they convert such input to <code>NumPy</code> arrays prior to processing, and they often output <code>NumPy</code> arrays. In other words, in order to efficiently use much (perhaps even most) of today’s scientific/mathematical Python-based software, just knowing how to use Python’s built-in sequence types is insufficient - one also needs to know how to use <code>NumPy</code> arrays.\n",
    "\n",
    "The points about sequence size and speed are particularly important in scientific computing. As a simple example, consider the case of multiplying each element in a 1-D sequence with the corresponding element in another sequence of the same length. If the data are stored in two Python lists, `a` and `b`, we could iterate over each element:"
   ]
  },
  {
   "cell_type": "code",
   "execution_count": null,
   "metadata": {
    "colab": {
     "base_uri": "https://localhost:8080/"
    },
    "executionInfo": {
     "elapsed": 144,
     "status": "ok",
     "timestamp": 1705459801311,
     "user": {
      "displayName": "Saurabh Gupta",
      "userId": "04788659125012627930"
     },
     "user_tz": 300
    },
    "id": "Lw2YoImWUzVE",
    "outputId": "8b43b46b-01cc-447a-d3dc-15c656d86e8c"
   },
   "outputs": [
    {
     "name": "stdout",
     "output_type": "stream",
     "text": [
      "[0, 1, 4, 9, 16, 25, 36, 49, 64, 81]\n"
     ]
    }
   ],
   "source": [
    "a = b = [x for x in range(0,10)]\n",
    "c = []\n",
    "for i in range(len(a)):\n",
    "    c.append(a[i]*b[i])\n",
    "print(c)"
   ]
  },
  {
   "cell_type": "markdown",
   "metadata": {
    "id": "Px83M4dyU2bn"
   },
   "source": [
    "This produces the correct answer, but if a and b each contain millions of numbers, we will pay the price for the inefficiencies of looping in Python. We could accomplish the same task much more quickly in C by writing (for clarity we neglect variable declarations and initializations, memory allocation, etc.)\n",
    "\n",
    "\n",
    "\n",
    "```\n",
    "\n",
    "for (i = 0; i < rows; i++): {\n",
    "  c[i] = a[i]*b[i];\n",
    "}\n",
    "\n",
    "```\n",
    "\n",
    "\n",
    "\n",
    "This saves all the overhead involved in interpreting the Python code and manipulating Python objects, but at the expense of the benefits gained from coding in Python. Furthermore, the coding work required increases with the dimensionality of our data. In the case of a 2-D array, for example, the C code (abridged as before) expands to\n",
    "\n",
    "\n",
    "\n",
    "```\n",
    "for (i = 0; i < rows; i++): {\n",
    "  for (j = 0; j < columns; j++): {\n",
    "    c[i][j] = a[i][j]*b[i][j];\n",
    "  }\n",
    "}\n",
    "```\n",
    "\n",
    "\n",
    "\n",
    "\n",
    "\n",
    "NumPy gives us the best of both worlds: element-by-element operations are the “default mode” when an *ndarray* is involved, but the element-by-element operation is speedily executed by pre-compiled C code."
   ]
  },
  {
   "cell_type": "markdown",
   "metadata": {
    "id": "XaW95zUdVDaC"
   },
   "source": [
    "## Visualizing an Array\n",
    "\n",
    "We can visualize arrays as vectors, matrices, and their extension to higher dimensions. The picture below from https://predictivehacks.com/tips-about-numpy-arrays/ shows this visually."
   ]
  },
  {
   "cell_type": "markdown",
   "metadata": {
    "id": "Zg9LBwIMbd9Y"
   },
   "source": [
    "![](https://drive.google.com/uc?export=view&id=1xDrydbSbijvK2JBftUz-5ovagN2B_RWH)\n",
    "\n",
    "\n",
    "Saurabh tried to export the image from google drive to google colab but it isn't working. Displaying some other image from stack overflow notes\n",
    "\n",
    "![](https://drive.google.com/uc?export=view&id=1S6FR9MjTBuyfMaUmDaqU0sVc_juhMbbV)\n",
    "\n",
    "https://drive.google.com/file/d/1S6FR9MjTBuyfMaUmDaqU0sVc_juhMbbV/view?usp=sharing"
   ]
  },
  {
   "cell_type": "markdown",
   "metadata": {
    "id": "KnC70YhbgijS"
   },
   "source": [
    "# Additional Part"
   ]
  },
  {
   "cell_type": "markdown",
   "metadata": {
    "id": "VnTmdL4xhZxq"
   },
   "source": [
    "\n",
    "* Use a method to remove the number 10 from the list\n",
    "* Have your new list display its values\n",
    "\n",
    "REMOVE or POP functions can be used here"
   ]
  },
  {
   "cell_type": "code",
   "execution_count": null,
   "metadata": {
    "colab": {
     "base_uri": "https://localhost:8080/"
    },
    "executionInfo": {
     "elapsed": 211,
     "status": "ok",
     "timestamp": 1705463999190,
     "user": {
      "displayName": "Saurabh Gupta",
      "userId": "04788659125012627930"
     },
     "user_tz": 300
    },
    "id": "LXUxctTahaOZ",
    "outputId": "d932c28e-6268-44d8-c327-9ff1e834c675"
   },
   "outputs": [
    {
     "name": "stdout",
     "output_type": "stream",
     "text": [
      "[1, 2, 3, 4, 5, 6, 7, 8, 9, 11, 12, 13, 14, 15, 16, 17, 18, 19, 20]\n"
     ]
    }
   ],
   "source": [
    "listy = [x for x in range(1,21)]\n",
    "listy.remove(10)\n",
    "print (listy)\n"
   ]
  },
  {
   "cell_type": "markdown",
   "metadata": {
    "id": "tSJOwPPKhaXv"
   },
   "source": [
    "\n",
    "* Use a method to insert the string “threeve” to the beginning of the list (note that the first position is the 0th index of the list)\n",
    "* Have your new list display its values\n",
    "\n",
    "INSERT and APPEND funtions can be used here"
   ]
  },
  {
   "cell_type": "code",
   "execution_count": null,
   "metadata": {
    "colab": {
     "base_uri": "https://localhost:8080/"
    },
    "executionInfo": {
     "elapsed": 147,
     "status": "ok",
     "timestamp": 1705464002922,
     "user": {
      "displayName": "Saurabh Gupta",
      "userId": "04788659125012627930"
     },
     "user_tz": 300
    },
    "id": "n3rLT0Qdhaib",
    "outputId": "0e29fb9b-f5c3-4045-e8d5-c543719158fd"
   },
   "outputs": [
    {
     "name": "stdout",
     "output_type": "stream",
     "text": [
      "['threeve', 1, 2, 3, 4, 5, 6, 7, 8, 9, 11, 12, 13, 14, 15, 16, 17, 18, 19, 20]\n"
     ]
    }
   ],
   "source": [
    "listy.insert(0,'threeve')\n",
    "print(listy)"
   ]
  },
  {
   "cell_type": "markdown",
   "metadata": {
    "id": "9NDBr5yGhVpK"
   },
   "source": [
    "* Use augmented assignment to repeat the modified listy three times\n",
    "* Have your new list display its values\n",
    "\n"
   ]
  },
  {
   "cell_type": "code",
   "execution_count": null,
   "metadata": {
    "colab": {
     "base_uri": "https://localhost:8080/"
    },
    "executionInfo": {
     "elapsed": 151,
     "status": "ok",
     "timestamp": 1705464009100,
     "user": {
      "displayName": "Saurabh Gupta",
      "userId": "04788659125012627930"
     },
     "user_tz": 300
    },
    "id": "T1MAJyAbhNut",
    "outputId": "aed50d9d-b170-43ae-b5ef-3de99fd09ae2"
   },
   "outputs": [
    {
     "name": "stdout",
     "output_type": "stream",
     "text": [
      "['threeve', 1, 2, 3, 4, 5, 6, 7, 8, 9, 11, 12, 13, 14, 15, 16, 17, 18, 19, 20, 'threeve', 1, 2, 3, 4, 5, 6, 7, 8, 9, 11, 12, 13, 14, 15, 16, 17, 18, 19, 20, 'threeve', 1, 2, 3, 4, 5, 6, 7, 8, 9, 11, 12, 13, 14, 15, 16, 17, 18, 19, 20]\n"
     ]
    }
   ],
   "source": [
    "listy = listy * 3\n",
    "print(listy)"
   ]
  }
 ],
 "metadata": {
  "colab": {
   "authorship_tag": "ABX9TyMYurjNYRTN/7nzm+vbNi0F",
   "provenance": [],
   "toc_visible": true
  },
  "kernelspec": {
   "display_name": "Python [conda env:base] *",
   "language": "python",
   "name": "conda-base-py"
  },
  "language_info": {
   "codemirror_mode": {
    "name": "ipython",
    "version": 3
   },
   "file_extension": ".py",
   "mimetype": "text/x-python",
   "name": "python",
   "nbconvert_exporter": "python",
   "pygments_lexer": "ipython3",
   "version": "3.12.7"
  }
 },
 "nbformat": 4,
 "nbformat_minor": 4
}
